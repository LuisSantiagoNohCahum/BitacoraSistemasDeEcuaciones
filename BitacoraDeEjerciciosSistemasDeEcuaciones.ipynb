{
 "cells": [
  {
   "cell_type": "markdown",
   "metadata": {},
   "source": [
    "## METODOS NUMERICOS\n",
    "\n",
    "#### Maestro : Jorge Manuel Pool Cen \n",
    "\n",
    "### UNIDAD 3 - Métodos de solución de sistemas de ecuaciones\n",
    "\n",
    "### ALUMNO\n",
    "+ #### LUIS SANTIAGO NOH CAHUM - 19070049\n",
    "\n",
    "#### BITACORA DE EJERCICIOS\n",
    "\n",
    "FECHA DE ENTREGA: 28 DE ABRIL DE 2021\n"
   ]
  },
  {
   "cell_type": "markdown",
   "metadata": {},
   "source": [
    "# **Metodos Para Sistemas Lineales**"
   ]
  },
  {
   "cell_type": "markdown",
   "metadata": {},
   "source": [
    "## *Metodo de Jacobi*"
   ]
  },
  {
   "cell_type": "markdown",
   "metadata": {},
   "source": [
    "+ #### *Cargar Librerias*"
   ]
  },
  {
   "cell_type": "code",
   "execution_count": 129,
   "metadata": {},
   "outputs": [],
   "source": [
    "import numpy as np\n",
    "\n",
    "from math import *"
   ]
  },
  {
   "cell_type": "markdown",
   "metadata": {},
   "source": [
    "+ #### *Metodo de Jacobi*"
   ]
  },
  {
   "cell_type": "code",
   "execution_count": 130,
   "metadata": {},
   "outputs": [],
   "source": [
    "def jacobi (T,C,X, error, iteraciones):\n",
    "    e=1\n",
    "    i=0\n",
    "    while i<iteraciones:\n",
    "        resultado = np.dot(T,X)+C\n",
    "        numerador = np.amax(abs(resultado-X))\n",
    "        denominador = np.amax(abs(resultado))\n",
    "        e= numerador/denominador\n",
    "        print(\"Vector resultante en Iteracion \",(i+1), \" : \",resultado, \"error: {0:^10.5f}\".format(e))\n",
    "        X=resultado\n",
    "        if e< error:\n",
    "            return \"\\n\\tSolucion final aproximada: \"+ str(X)\n",
    "            break\n",
    "        i+=1\n",
    "    return \"SE HA ALCANZADO EL NUMERO MAXIMO DE ITERACIONES\" +\"\\nLa solucion alcanzada con \" + str((i))+\"iteraciones es: \" + str(X)"
   ]
  },
  {
   "cell_type": "markdown",
   "metadata": {},
   "source": [
    "+ #### *Definir matriz T, C y el vector de aproximacion inicial X*"
   ]
  },
  {
   "cell_type": "markdown",
   "metadata": {},
   "source": [
    "+ #### Ejemplo"
   ]
  },
  {
   "cell_type": "code",
   "execution_count": 131,
   "metadata": {},
   "outputs": [
    {
     "name": "stdout",
     "output_type": "stream",
     "text": [
      "Vector resultante en Iteracion  1  :  [ 0.6         2.27272727 -1.1         1.875     ] error:  1.00000  \n",
      "Vector resultante en Iteracion  2  :  [ 1.04727273  1.71590909 -0.80522727  0.88522727] error:  0.57682  \n",
      "Vector resultante en Iteracion  3  :  [ 0.93263636  2.05330579 -1.04934091  1.13088068] error:  0.16432  \n",
      "Vector resultante en Iteracion  4  :  [ 1.01519876  1.95369576 -0.96810863  0.97384272] error:  0.08038  \n",
      "Vector resultante en Iteracion  5  :  [ 0.9889913   2.01141473 -1.0102859   1.02135051] error:  0.02870  \n",
      "Vector resultante en Iteracion  6  :  [ 1.00319865  1.99224126 -0.99452174  0.99443374] error:  0.01351  \n",
      "Vector resultante en Iteracion  7  :  [ 0.99812847  2.00230688 -1.00197223  1.00359431] error:  0.00503  \n",
      "Vector resultante en Iteracion  8  :  [ 1.00062513  1.9986703  -0.99903558  0.99888839] error:  0.00235  \n",
      "Vector resultante en Iteracion  9  :  [ 0.99967415  2.00044767 -1.00036916  1.00061919] error:  0.00089  \n",
      "\n",
      "\tSolucion final aproximada: [ 0.99967415  2.00044767 -1.00036916  1.00061919]\n"
     ]
    }
   ],
   "source": [
    "T = np.array([[0,1/10,-1/5,0],[1/11,0,1/11,-3/11],[-1/5,1/10,0,1/10],[0,-3/8,1/8,0]])\n",
    "C = np.array([3/5,25/11,-11/10,15/8])\n",
    "x = np.array([0,0,0,0])\n",
    "\n",
    "print(jacobi(T,C,x,0.001,10))"
   ]
  },
  {
   "cell_type": "markdown",
   "metadata": {},
   "source": [
    "#### Eejercicio 1"
   ]
  },
  {
   "cell_type": "code",
   "execution_count": 132,
   "metadata": {},
   "outputs": [
    {
     "name": "stdout",
     "output_type": "stream",
     "text": [
      "Vector resultante en Iteracion  1  :  [0.33333333 0.         0.57142857] error:  1.00000  \n",
      "Vector resultante en Iteracion  2  :  [ 0.14285714 -0.35714286  0.42857143] error:  0.83333  \n",
      "Vector resultante en Iteracion  3  :  [ 0.07142857 -0.21428571  0.66326531] error:  0.35385  \n",
      "Vector resultante en Iteracion  4  :  [ 0.04081633 -0.25680272  0.63265306] error:  0.06720  \n",
      "Vector resultante en Iteracion  5  :  [ 0.03684807 -0.23129252  0.66399417] error:  0.04720  \n",
      "Vector resultante en Iteracion  6  :  [ 0.03490444 -0.23975543  0.6547619 ] error:  0.01410  \n",
      "Vector resultante en Iteracion  7  :  [ 0.03516089 -0.23570619  0.65922185] error:  0.00677  \n",
      "Vector resultante en Iteracion  8  :  [ 0.03502399 -0.23732106  0.65737656] error:  0.00281  \n",
      "Vector resultante en Iteracion  9  :  [ 0.03510079 -0.23663751  0.65812732] error:  0.00114  \n",
      "Vector resultante en Iteracion  10  :  [ 0.03507839 -0.23692617  0.65780145] error:  0.00050  \n",
      "\n",
      "\tSolucion final aproximada: [ 0.03507839 -0.23692617  0.65780145]\n"
     ]
    }
   ],
   "source": [
    "T = np.array([[0,1/3,-1/3],[-1/2,0,-1/3],[-3/7,-3/7,0]])\n",
    "C = np.array([1/3,0,4/7])\n",
    "x = np.array([0,0,0])\n",
    "\n",
    "print(jacobi(T,C,x,0.001,10))"
   ]
  },
  {
   "cell_type": "markdown",
   "metadata": {},
   "source": [
    "#### Eejercicio 2"
   ]
  },
  {
   "cell_type": "code",
   "execution_count": 133,
   "metadata": {},
   "outputs": [
    {
     "name": "stdout",
     "output_type": "stream",
     "text": [
      "Vector resultante en Iteracion  1  :  [0.9 0.7 0.6] error:  1.00000  \n",
      "Vector resultante en Iteracion  2  :  [0.97 0.91 0.74] error:  0.21649  \n",
      "Vector resultante en Iteracion  3  :  [0.991 0.945 0.782] error:  0.04238  \n",
      "Vector resultante en Iteracion  4  :  [0.9945 0.9555 0.789 ] error:  0.01056  \n",
      "Vector resultante en Iteracion  5  :  [0.99555 0.95725 0.7911 ] error:  0.00211  \n",
      "Vector resultante en Iteracion  6  :  [0.995725 0.957775 0.79145 ] error:  0.00053  \n",
      "\n",
      "\tSolucion final aproximada: [0.995725 0.957775 0.79145 ]\n"
     ]
    }
   ],
   "source": [
    "T = np.array([[0,1/10,0],[1/10,0,1/5],[0,1/5,0]])\n",
    "C = np.array([9/10,7/10,3/5])\n",
    "x = np.array([0,0,0])\n",
    "\n",
    "print(jacobi(T,C,x,0.001,10))"
   ]
  },
  {
   "cell_type": "markdown",
   "metadata": {},
   "source": [
    "#### Eejercicio 3"
   ]
  },
  {
   "cell_type": "code",
   "execution_count": 134,
   "metadata": {},
   "outputs": [
    {
     "name": "stdout",
     "output_type": "stream",
     "text": [
      "Vector resultante en Iteracion  1  :  [ 0.6    2.5   -1.375 -2.2  ] error:  1.00000  \n",
      "Vector resultante en Iteracion  2  :  [-0.65   1.65  -0.4   -2.475] error:  0.50505  \n",
      "Vector resultante en Iteracion  3  :  [-0.225     2.665    -0.859375 -2.28    ] error:  0.38086  \n",
      "Vector resultante en Iteracion  4  :  [-0.7325    2.26875  -0.3275   -2.371875] error:  0.22424  \n",
      "Vector resultante en Iteracion  5  :  [-0.534375    2.73525    -0.53710938 -2.2655    ] error:  0.17055  \n",
      "Vector resultante en Iteracion  6  :  [-0.767625    2.55234375 -0.2905625  -2.30742188] error:  0.09660  \n",
      "Vector resultante en Iteracion  7  :  [-0.67617187  2.7675875  -0.38725586 -2.2581125 ] error:  0.07777  \n",
      "Vector resultante en Iteracion  8  :  [-0.78379375  2.68318359 -0.27347031 -2.27745117] error:  0.04241  \n",
      "Vector resultante en Iteracion  9  :  [-0.7415918   2.78250875 -0.3180896  -2.25469406] error:  0.03570  \n",
      "Vector resultante en Iteracion  10  :  [-0.79125437  2.74356006 -0.26558238 -2.26361792] error:  0.01914  \n",
      "Vector resultante en Iteracion  11  :  [-0.77178003  2.78939423 -0.28617221 -2.25311648] error:  0.01643  \n",
      "Vector resultante en Iteracion  12  :  [-0.79469712  2.77142113 -0.26194244 -2.25723444] error:  0.00874  \n",
      "Vector resultante en Iteracion  13  :  [-0.78571057  2.79257158 -0.27144374 -2.25238849] error:  0.00757  \n",
      "Vector resultante en Iteracion  14  :  [-0.79628579  2.78427779 -0.26026277 -2.25428875] error:  0.00402  \n",
      "Vector resultante en Iteracion  15  :  [-0.79213889  2.79403779 -0.2646472  -2.25205255] error:  0.00349  \n",
      "Vector resultante en Iteracion  16  :  [-0.79701889  2.79021057 -0.25948768 -2.25292944] error:  0.00185  \n",
      "Vector resultante en Iteracion  17  :  [-0.79510528  2.79471438 -0.2615109  -2.25189754] error:  0.00161  \n",
      "Vector resultante en Iteracion  18  :  [-0.79735719  2.79294828 -0.25913    -2.25230218] error:  0.00085  \n",
      "\n",
      "\tSolucion final aproximada: [-0.79735719  2.79294828 -0.25913    -2.25230218]\n"
     ]
    }
   ],
   "source": [
    "T = np.array([[0,-1/2,0,0],[-1/2,0,2/5,0],[0,1/2,0,1/8],[0,0,1/5,0]])\n",
    "C = np.array([6/10,25/10,-11/8,-11/5])\n",
    "x = np.array([0,0,0,0])\n",
    "\n",
    "print(jacobi(T,C,x,0.001,20))"
   ]
  },
  {
   "cell_type": "markdown",
   "metadata": {},
   "source": [
    "#### Eejercicio 4"
   ]
  },
  {
   "cell_type": "code",
   "execution_count": 135,
   "metadata": {},
   "outputs": [
    {
     "name": "stdout",
     "output_type": "stream",
     "text": [
      "Vector resultante en Iteracion  1  :  [-0.5        -0.25        0.          0.33333333] error:  1.00000  \n",
      "Vector resultante en Iteracion  2  :  [-0.52083333 -0.04166667 -0.21666667  0.41666667] error:  0.41600  \n",
      "Vector resultante en Iteracion  3  :  [-0.64791667 -0.06979167 -0.19583333  0.56527778] error:  0.22937  \n",
      "Vector resultante en Iteracion  4  :  [-0.67282986  0.00434028 -0.25659722  0.59131944] error:  0.11018  \n",
      "Vector resultante en Iteracion  5  :  [-0.71306424  0.00188802 -0.25196181  0.64458912] error:  0.07471  \n",
      "Vector resultante en Iteracion  6  :  [-0.72460974  0.02642289 -0.27115307  0.65563802] error:  0.03386  \n",
      "Vector resultante en Iteracion  7  :  [-0.73830349  0.02727367 -0.27076497  0.6740619 ] error:  0.02495  \n",
      "Vector resultante en Iteracion  8  :  [-0.74302514  0.0354001  -0.27701834  0.67878071] error:  0.01094  \n",
      "Vector resultante en Iteracion  9  :  [-0.74779979  0.03619688 -0.27728115  0.68514786] error:  0.00851  \n",
      "Vector resultante en Iteracion  10  :  [-0.74965647  0.03891663 -0.27935016  0.68709261] error:  0.00363  \n",
      "Vector resultante en Iteracion  11  :  [-0.75133985  0.03934973 -0.27956649  0.68930775] error:  0.00295  \n",
      "Vector resultante en Iteracion  12  :  [-0.75205599  0.04027028 -0.28025957  0.69008536] error:  0.00122  \n",
      "Vector resultante en Iteracion  13  :  [-0.7526538   0.04047044 -0.28037421  0.69086195] error:  0.00103  \n",
      "Vector resultante en Iteracion  14  :  [-0.75292665  0.04078538 -0.28060906  0.69116615] error:  0.00042  \n",
      "\n",
      "\tSolucion final aproximada: [-0.75292665  0.04078538 -0.28060906  0.69116615]\n"
     ]
    }
   ],
   "source": [
    "T = np.array([[0,-1/4,1/4,-1/4],[-1/4,0,1/4,1/4],[1/5,1/5,0,-1/5],[-1/3,1/3,-1/3,0]])\n",
    "C = np.array([-1/2,-1/4,0,1/3])\n",
    "x = np.array([0,0,0,0])\n",
    "\n",
    "print(jacobi(T,C,x,0.001,16))"
   ]
  },
  {
   "cell_type": "markdown",
   "metadata": {},
   "source": [
    "## *Metodo de Gauss-Seidel*"
   ]
  },
  {
   "cell_type": "markdown",
   "metadata": {},
   "source": [
    "+ #### *Metodo de Gauss - Seidel*"
   ]
  },
  {
   "cell_type": "code",
   "execution_count": 136,
   "metadata": {},
   "outputs": [],
   "source": [
    "import numpy as np\n",
    "\n",
    "def Gaus_Seidel (A,B,X, tol, numIter):\n",
    "    tamaño=np.shape(A)\n",
    "    n=tamaño[0]\n",
    "    m=tamaño[1]\n",
    "    X= np.copy(x)\n",
    "    diferencia = np.ones(n, dtype = float)\n",
    "    error=1\n",
    "    i=0\n",
    "    itera=0\n",
    "    while (itera < numIter):\n",
    "        for i in range(0,n,1):\n",
    "            suma = 0\n",
    "            for j in range(0,n,1):\n",
    "                if j!=i:\n",
    "                    suma = suma + A[i,j]*X[j]\n",
    "            nuevo = (B[i]-suma)/A[i,i]\n",
    "            diferencia[i]=np.abs((nuevo - X[i]))\n",
    "            X[i]=nuevo\n",
    "        error= np.max(diferencia)\n",
    "        print(\"Iteración:\",(itera+1),\" Resultado \",X, \"error: {0:^10.5f}\".format(error))\n",
    "        if error< tol:\n",
    "            return \"\\n\\tSolucion final aproximada: \"+ str(X)\n",
    "            break\n",
    "        itera = itera +1\n",
    "    return \"SE HA ALCANZADO EL NUMERO MAXIMO DE ITERACIONES\" +\"\\nLa solucion alcanzada con \" + str((i))+\"iteraciones es: \" + str(X)"
   ]
  },
  {
   "cell_type": "markdown",
   "metadata": {},
   "source": [
    "+ #### *Definir matriz A (De coeficientes), C (De terminos independientes) y el vector de aproximacion inicial x*"
   ]
  },
  {
   "cell_type": "markdown",
   "metadata": {},
   "source": [
    "+ #### Ejercicio 1 - Gauss - Seidel"
   ]
  },
  {
   "cell_type": "code",
   "execution_count": 137,
   "metadata": {},
   "outputs": [
    {
     "name": "stdout",
     "output_type": "stream",
     "text": [
      "Iteración: 1  Resultado  [ 0.33333333 -0.16666667  0.5       ] error:  0.50000  \n",
      "Iteración: 2  Resultado  [ 0.11111111 -0.22222222  0.61904762] error:  0.22222  \n",
      "Iteración: 3  Resultado  [ 0.05291005 -0.23280423  0.64852608] error:  0.05820  \n",
      "Iteración: 4  Resultado  [ 0.03955656 -0.23595364  0.65559875] error:  0.01335  \n",
      "Iteración: 5  Resultado  [ 0.0361492  -0.23660752  0.65733928] error:  0.00341  \n",
      "Iteración: 6  Resultado  [ 0.03535107 -0.23678863  0.65775895] error:  0.00080  \n",
      "Iteración: 7  Resultado  [ 0.03515081 -0.23682839  0.65786182] error:  0.00020  \n",
      "Iteración: 8  Resultado  [ 0.03510326 -0.23683891  0.6578867 ] error:  0.00005  \n",
      "\n",
      "\tSolucion final aproximada: [ 0.03510326 -0.23683891  0.6578867 ]\n"
     ]
    }
   ],
   "source": [
    "A = np.array([[3,-1,1],\n",
    "          [3,6,2],\n",
    "          [3, 3,7]])\n",
    "\n",
    "B = np.array([1, 0, 4])\n",
    "\n",
    "x=np.array([0.0,0.0,0.0])\n",
    "\n",
    "print(Gaus_Seidel (A,B,x, 0.0001, 10))"
   ]
  },
  {
   "cell_type": "markdown",
   "metadata": {},
   "source": [
    "+ #### Ejercicio 2 - Gauss - Seidel"
   ]
  },
  {
   "cell_type": "code",
   "execution_count": 138,
   "metadata": {},
   "outputs": [
    {
     "name": "stdout",
     "output_type": "stream",
     "text": [
      "Iteración: 1  Resultado  [0.9   0.79  0.758] error:  0.90000  \n",
      "Iteración: 2  Resultado  [0.979  0.9495 0.7899] error:  0.15950  \n",
      "Iteración: 3  Resultado  [0.99495  0.957475 0.791495] error:  0.01595  \n",
      "Iteración: 4  Resultado  [0.9957475  0.95787375 0.79157475] error:  0.00080  \n",
      "Iteración: 5  Resultado  [0.99578737 0.95789369 0.79157874] error:  0.00004  \n",
      "\n",
      "\tSolucion final aproximada: [0.99578737 0.95789369 0.79157874]\n"
     ]
    }
   ],
   "source": [
    "A = np.array([[10,-1,0],\n",
    "          [-1,10,-2],\n",
    "          [0,-2,10]])\n",
    "\n",
    "B = np.array([9, 7, 6])\n",
    "\n",
    "x=np.array([0.0,0.0,0.0])\n",
    "\n",
    "print(Gaus_Seidel (A,B,x, 0.0001, 10))"
   ]
  },
  {
   "cell_type": "markdown",
   "metadata": {},
   "source": [
    "# Metodos Para Sistemas No Lineales"
   ]
  },
  {
   "cell_type": "markdown",
   "metadata": {},
   "source": [
    "## *Metodo de Newton para sistemas no lineales*"
   ]
  },
  {
   "cell_type": "code",
   "execution_count": 139,
   "metadata": {},
   "outputs": [],
   "source": [
    "import numpy as np\n",
    "from math import *\n",
    "def newtonNoLineales (jacobiano, Fx, x, tolerancia, iteraciones):\n",
    "    error = 1\n",
    "    i=0\n",
    "    while i<iteraciones:\n",
    "        r= jacobiano(x)\n",
    "        feval = Fx(x)\n",
    "        resultado =x- np.dot(r,feval)\n",
    "        numerador = np.amax( abs((resultado - x)))\n",
    "        denominador = np.amax( abs(resultado))\n",
    "        error = numerador/denominador\n",
    "        #np.round(resultado, 6)\n",
    "        #np.set_printoptions(formatter={\"float\": lambda resultado:\"%0.6f\"%(resultado)})\n",
    "        print(\"Iteración:\",(i+1),\" Solucion Aproximada: \",resultado,\"error: {:^10.5f}\".format(error))\n",
    "        if error< tolerancia:\n",
    "            return \"\\n\\tSolucion final aproximada: \"+ str(resultado)\n",
    "            break\n",
    "        x=resultado\n",
    "        i+=1\n",
    "    return \"SE HA ALCANZADO EL NUMERO MAXIMO DE ITERACIONES\" +\"\\nLa solucion alcanzada con \" + str((i))+\"iteraciones es: \" + str(x)"
   ]
  },
  {
   "cell_type": "markdown",
   "metadata": {},
   "source": [
    "+ #### *Definir matriz jacobiana formada por las derivadas parciales, Definir vector de funciones, Definir Vector de valores iniciales*"
   ]
  },
  {
   "cell_type": "markdown",
   "metadata": {},
   "source": [
    "+ #### Ejemplo"
   ]
  },
  {
   "cell_type": "code",
   "execution_count": 140,
   "metadata": {},
   "outputs": [
    {
     "name": "stdout",
     "output_type": "stream",
     "text": [
      "Iteración: 1  Solucion Aproximada:  [ 0.49986967  0.01946685 -0.52152047] error:  0.80825  \n",
      "Iteración: 2  Solucion Aproximada:  [ 0.50001424  0.00158859 -0.52355696] error:  0.03415  \n",
      "Iteración: 3  Solucion Aproximada:  [ 5.00000113e-01  1.24447833e-05 -5.23598450e-01] error:  0.00301  \n",
      "\n",
      "\tSolucion final aproximada: [ 5.00000113e-01  1.24447833e-05 -5.23598450e-01]\n"
     ]
    }
   ],
   "source": [
    "##definir matriz jacobiana formada por las derivadas parciales\n",
    "def jacobiano(x):\n",
    "    J = np.array([[3,x[2]*sin(x[1]*x[2]),x[1]*sin(x[1]*x[2])],[2*x[0], -162*(x[1]+0.1), cos(x[2])],[-x[1]*exp(-x[0]*x[1]), -x[0]*exp(-x[0]*x[1]), 20]])\n",
    "    JInversa = np.linalg.inv(J)\n",
    "    return JInversa\n",
    "##Definir vector de funciones\n",
    "def Fx(x):\n",
    "    xk=np.array([3*x[0]-cos(x[1]*x[2])-1/2, x[0]**2-81*(x[1]+0.1)**2+sin(x[2])+1.06, exp(-x[0]*x[1])+ 20*x[2] + (10*pi-3)/3])\n",
    "    return xk\n",
    "#vector de valores iniciales\n",
    "x = np.array([0.1,0.1,-0.1]) \n",
    "\n",
    "print(newtonNoLineales (jacobiano, Fx, x, 0.01, 20))"
   ]
  },
  {
   "cell_type": "markdown",
   "metadata": {},
   "source": [
    "#### Eejercicio 5"
   ]
  },
  {
   "cell_type": "code",
   "execution_count": 141,
   "metadata": {},
   "outputs": [
    {
     "name": "stdout",
     "output_type": "stream",
     "text": [
      "Iteración: 1  Solucion Aproximada:  [0.4  1.76] error:  1.00000  \n",
      "Iteración: 2  Solucion Aproximada:  [0.49589361 1.98342347] error:  0.11265  \n",
      "Iteración: 3  Solucion Aproximada:  [0.49998761 1.99993705] error:  0.00826  \n",
      "\n",
      "\tSolucion final aproximada: [0.49998761 1.99993705]\n"
     ]
    }
   ],
   "source": [
    "##definir matriz jacobiana formada por las derivadas parciales\n",
    "def jacobiano(x):\n",
    "    J = np.array([[8*x[0]-20,1/2*x[1]],[1/2*(x[1]**2)+2, x[0]*x[1]-5]])\n",
    "    JInversa = np.linalg.inv(J)\n",
    "    return JInversa\n",
    "##Definir vector de funciones\n",
    "def Fx(x):\n",
    "    xk=np.array([4*x[0]**2-20*x[0]+1/4*x[1]**2+8, 1/2*x[0]*(x[1]**2)+2*x[0]-5*x[1]+8])\n",
    "    return xk\n",
    "#vector de valores iniciales\n",
    "x = np.array([0.0,0.0]) \n",
    "\n",
    "print(newtonNoLineales (jacobiano, Fx, x, 0.01, 20))"
   ]
  },
  {
   "cell_type": "markdown",
   "metadata": {},
   "source": [
    "#### Eejercicio 6"
   ]
  },
  {
   "cell_type": "code",
   "execution_count": 142,
   "metadata": {},
   "outputs": [
    {
     "name": "stdout",
     "output_type": "stream",
     "text": [
      "Iteración: 1  Solucion Aproximada:  [-0.43984123  0.21992062] error:  1.00000  \n",
      "Iteración: 2  Solucion Aproximada:  [-0.51316159 -0.01837622] error:  0.46437  \n",
      "Iteración: 3  Solucion Aproximada:  [-0.38821176  0.04285363] error:  0.32186  \n",
      "Iteración: 4  Solucion Aproximada:  [-0.37423804  0.05590018] error:  0.03734  \n",
      "Iteración: 5  Solucion Aproximada:  [-0.37369869  0.05626611] error:  0.00144  \n",
      "\n",
      "\tSolucion final aproximada: [-0.37369869  0.05626611]\n"
     ]
    }
   ],
   "source": [
    "##definir matriz jacobiana formada por las derivadas parciales\n",
    "def jacobiano(x):\n",
    "    J = np.array([[4*pi*x[1]*cos(4*pi*x[0]*x[1])-1, 4*pi*x[0]*cos(4*pi*x[0]*x[1])-2],[(((4*pi-1)*(math.e**(2*x[0])))/(2*pi))-2*e,8*e*x[1]]])\n",
    "    JInversa = np.linalg.inv(J)\n",
    "    return JInversa\n",
    "##Definir vector de funciones\n",
    "def Fx(x):\n",
    "    xk=np.array([sin(4*pi*(x[0]*x[1]))-2*x[1]-x[0],((4*pi-1)/(4*pi))*(exp(2*x[0])-e)+4*e*x[1]**2-2*e*x[0]])\n",
    "    return xk\n",
    "#vector de valores iniciales\n",
    "x = np.array([0.0,0.0]) \n",
    "\n",
    "print(newtonNoLineales (jacobiano, Fx, x, 0.01, 20))"
   ]
  },
  {
   "cell_type": "markdown",
   "metadata": {},
   "source": [
    "#### Eejercicio 7"
   ]
  },
  {
   "cell_type": "code",
   "execution_count": 143,
   "metadata": {},
   "outputs": [
    {
     "name": "stdout",
     "output_type": "stream",
     "text": [
      "Iteración: 1  Solucion Aproximada:  [ 0.5         0.5        -0.52359878] error:  1.00000  \n",
      "Iteración: 2  Solucion Aproximada:  [ 0.50016669  0.25080364 -0.51738743] error:  0.48164  \n",
      "Iteración: 3  Solucion Aproximada:  [ 0.49994493  0.12620625 -0.52045512] error:  0.23940  \n",
      "Iteración: 4  Solucion Aproximada:  [ 0.49998624  0.06391304 -0.52200313] error:  0.11933  \n",
      "Iteración: 5  Solucion Aproximada:  [ 0.49999467  0.03277679 -0.52278013] error:  0.05956  \n",
      "Iteración: 6  Solucion Aproximada:  [ 0.49999742  0.01722919 -0.52316841] error:  0.02972  \n",
      "Iteración: 7  Solucion Aproximada:  [ 0.4999986   0.00949621 -0.52336156] error:  0.01478  \n",
      "Iteración: 8  Solucion Aproximada:  [ 0.49999916  0.00570987 -0.52345614] error:  0.00723  \n",
      "\n",
      "\tSolucion final aproximada: [ 0.49999916  0.00570987 -0.52345614]\n"
     ]
    }
   ],
   "source": [
    "##definir matriz jacobiana formada por las derivadas parciales\n",
    "def jacobiano(x):\n",
    "    J = np.array([[3,x[2]*sin(x[1]*x[2]),x[1]*sin(x[1]*x[2])],[8*x[0],-1250*x[1]+2,0],[-x[1]*exp(-x[0]*x[1]), -x[0]*exp(-x[0]*x[1]), 20]])\n",
    "    JInversa = np.linalg.inv(J)\n",
    "    return JInversa\n",
    "##Definir vector de funciones\n",
    "def Fx(x):\n",
    "    xk=np.array([3*x[0]-cos(x[1]*x[2])-1/2, 4*(x[0]**2)-625*(x[1]**2)+2*x[1]-1, exp(-x[0]*x[1])+ 20*x[2] + (10*pi-3)/3])\n",
    "    return xk\n",
    "#vector de valores iniciales\n",
    "x = np.array([0.0,0.0,0.0]) \n",
    "\n",
    "print(newtonNoLineales (jacobiano, Fx, x, 0.01, 20))"
   ]
  },
  {
   "cell_type": "markdown",
   "metadata": {},
   "source": [
    "#### Eejercicio 8"
   ]
  },
  {
   "cell_type": "code",
   "execution_count": 144,
   "metadata": {},
   "outputs": [
    {
     "name": "stdout",
     "output_type": "stream",
     "text": [
      "Iteración: 1  Solucion Aproximada:  [  5.  37. -39.] error:  1.00000  \n",
      "Iteración: 2  Solucion Aproximada:  [  4.35087719  18.49122807 -19.84210526] error:  0.96552  \n",
      "Iteración: 3  Solucion Aproximada:  [  5.36382418   9.25545179 -11.61927596] error:  0.79487  \n",
      "Iteración: 4  Solucion Aproximada:  [ 5.6960556   4.66532836 -7.36138395] error:  0.62354  \n",
      "Iteración: 5  Solucion Aproximada:  [ 5.88282266  2.42727945 -5.31010212] error:  0.38044  \n",
      "Iteración: 6  Solucion Aproximada:  [ 5.96609477  1.41264746 -4.37874223] error:  0.17007  \n",
      "Iteración: 7  Solucion Aproximada:  [ 5.99518811  1.05856593 -4.05375405] error:  0.05906  \n",
      "Iteración: 8  Solucion Aproximada:  [ 5.99987186  1.00155958 -4.00143144] error:  0.00950  \n",
      "\n",
      "\tSolucion final aproximada: [ 5.99987186  1.00155958 -4.00143144]\n"
     ]
    }
   ],
   "source": [
    "##definir matriz jacobiana formada por las derivadas parciales\n",
    "def jacobiano(x):\n",
    "    J = np.array([[2*x[0],1,0],[1,-2*x[1],0],[1,1,1]])\n",
    "    JInversa = np.linalg.inv(J)\n",
    "    return JInversa\n",
    "##Definir vector de funciones\n",
    "def Fx(x):\n",
    "    xk=np.array([x[0]**2+x[1]-37, x[0]-x[1]**2-5,x[0]+x[1]+x[2]-3])\n",
    "    return xk\n",
    "#vector de valores iniciales\n",
    "x = np.array([0.0,0.0,0.0]) \n",
    "\n",
    "print(newtonNoLineales (jacobiano, Fx, x, 0.01, 20))"
   ]
  },
  {
   "cell_type": "code",
   "execution_count": null,
   "metadata": {},
   "outputs": [],
   "source": []
  }
 ],
 "metadata": {
  "kernelspec": {
   "display_name": "Python 3",
   "language": "python",
   "name": "python3"
  },
  "language_info": {
   "codemirror_mode": {
    "name": "ipython",
    "version": 3
   },
   "file_extension": ".py",
   "mimetype": "text/x-python",
   "name": "python",
   "nbconvert_exporter": "python",
   "pygments_lexer": "ipython3",
   "version": "3.8.5"
  }
 },
 "nbformat": 4,
 "nbformat_minor": 4
}
